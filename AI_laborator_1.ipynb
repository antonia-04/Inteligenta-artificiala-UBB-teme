{
  "nbformat": 4,
  "nbformat_minor": 0,
  "metadata": {
    "colab": {
      "provenance": [],
      "authorship_tag": "ABX9TyPx7dKQw5RaPO29rLsW349L",
      "include_colab_link": true
    },
    "kernelspec": {
      "name": "python3",
      "display_name": "Python 3"
    },
    "language_info": {
      "name": "python"
    }
  },
  "cells": [
    {
      "cell_type": "markdown",
      "metadata": {
        "id": "view-in-github",
        "colab_type": "text"
      },
      "source": [
        "<a href=\"https://colab.research.google.com/github/antonia-04/Inteligenta-artificiala-UBB-teme/blob/main/AI_laborator_1.ipynb\" target=\"_parent\"><img src=\"https://colab.research.google.com/assets/colab-badge.svg\" alt=\"Open In Colab\"/></a>"
      ]
    },
    {
      "cell_type": "markdown",
      "source": [
        "# **Laborator 1 - Inteligență artificială**\n",
        "\n",
        "\n",
        "### Cerințe\n",
        "\n",
        "* Specificaţi, implementaţi și testați subalgoritmi pentru problemele\n",
        "enuntate.\n",
        "* Încercați să rezolvați fiecare cerință cât mai eficient (ca număr de pași și / sau ca resurse de memorie folosite).\n",
        "* Comparati, din punct de vedere al complexitatii temporale si spatiale, solutia propusa de voi (pentru fiecare problema) cu solutia generata de un bot inteligent (e.g. copilot).\n"
      ],
      "metadata": {
        "id": "GmZE6rKqONdt"
      }
    },
    {
      "cell_type": "markdown",
      "source": [
        "# Problema 1\n",
        "\n",
        "Să se determine ultimul (din punct de vedere alfabetic) cuvânt care poate apărea într-un text care conține mai multe cuvinte separate prin ” ” (spațiu). De ex. ultimul (dpdv alfabetic) cuvânt din ”Ana are mere rosii si galbene” este cuvântul \"si\"."
      ],
      "metadata": {
        "id": "wg713M1iKDcB"
      }
    },
    {
      "cell_type": "code",
      "source": [
        "def problem1():\n",
        "    text = input(\"Enter a text: \")\n",
        "    words = text.split()\n",
        "    lastWord = \"\"\n",
        "    for word in words:\n",
        "        if word > lastWord:\n",
        "            lastWord = word\n",
        "    print(lastWord)\n"
      ],
      "metadata": {
        "id": "4iAi5vtjKGOh"
      },
      "execution_count": null,
      "outputs": []
    },
    {
      "cell_type": "code",
      "source": [
        "problem1()"
      ],
      "metadata": {
        "id": "kZ0PNSZxLq0b"
      },
      "execution_count": null,
      "outputs": []
    },
    {
      "cell_type": "code",
      "source": [
        "# Copilot\n",
        "def findLastAlphabeticalWord(text):\n",
        "    words = text.split()\n",
        "    return max(words)\n",
        "\n",
        "text = \"Ana are mere rosii si galbene\"\n",
        "lastWord = findLastAlphabeticalWord(text)\n",
        "print(lastWord)"
      ],
      "metadata": {
        "colab": {
          "base_uri": "https://localhost:8080/"
        },
        "id": "dAdN0u4bfr6e",
        "outputId": "7af0e37d-ab16-4ce4-c9d0-1f25b64b0e24"
      },
      "execution_count": 63,
      "outputs": [
        {
          "output_type": "stream",
          "name": "stdout",
          "text": [
            "si\n"
          ]
        }
      ]
    },
    {
      "cell_type": "markdown",
      "source": [
        "# Problema 2\n",
        "\n",
        "Să se determine distanța Euclideană între două locații identificate prin perechi de numere.\n",
        "De ex. distanța între (1,5) și (4,1) este 5.0\n",
        "\n",
        "$$ d = \\sqrt{(x_2 - x_1)^2 + (y_2 - y_1)^2} $$\n",
        "\n"
      ],
      "metadata": {
        "id": "lotA5iz5ZfKD"
      }
    },
    {
      "cell_type": "code",
      "source": [
        "import math\n",
        "\n",
        "def problem2(xA, yA, xB, yB):\n",
        "    distance = math.sqrt((xB - xA) ** 2 + (yB - yA) ** 2)\n",
        "    print(\"Distance found:\", distance)\n",
        "\n"
      ],
      "metadata": {
        "id": "K1P5qlzrMXtZ"
      },
      "execution_count": 30,
      "outputs": []
    },
    {
      "cell_type": "code",
      "source": [
        "problem2(1, 5, 4, 1)"
      ],
      "metadata": {
        "colab": {
          "base_uri": "https://localhost:8080/"
        },
        "id": "_HFr7WwbMbrT",
        "outputId": "a01ed314-ccb4-45a4-f22c-e0bc4e3576b3"
      },
      "execution_count": 31,
      "outputs": [
        {
          "output_type": "stream",
          "name": "stdout",
          "text": [
            "Distance found: 5.0\n"
          ]
        }
      ]
    },
    {
      "cell_type": "code",
      "source": [
        "# Copilot\n",
        "import math\n",
        "\n",
        "def euclidean_distance(point1, point2):\n",
        "    return math.sqrt((point2[0] - point1[0]) ** 2 + (point2[1] - point1[1]) ** 2)\n",
        "\n",
        "point1 = (1, 5)\n",
        "point2 = (4, 1)\n",
        "distance = euclidean_distance(point1, point2)\n",
        "print(distance)"
      ],
      "metadata": {
        "colab": {
          "base_uri": "https://localhost:8080/"
        },
        "id": "Qrx6QwuIf0Di",
        "outputId": "9333817c-db3c-4f4a-d6e3-b35e6f507bd0"
      },
      "execution_count": 64,
      "outputs": [
        {
          "output_type": "stream",
          "name": "stdout",
          "text": [
            "5.0\n"
          ]
        }
      ]
    },
    {
      "cell_type": "markdown",
      "source": [
        "# Problema 3\n",
        "\n",
        "Să se determine produsul scalar a doi vectori rari care conțin numere reale. Un vector este rar atunci când conține multe elemente nule. Vectorii pot avea oricâte dimensiuni.\n",
        "\n",
        "De ex. produsul scalar a 2 vectori unidimensionali [1,0,2,0,3] și [1,2,0,3,1] este 4."
      ],
      "metadata": {
        "id": "-SCbLct4N4uF"
      }
    },
    {
      "cell_type": "code",
      "source": [
        "def problem3(vector1, vector2):\n",
        "\n",
        "    dotProduct = 0\n",
        "\n",
        "    for i in range(len(vector1)):\n",
        "        dotProduct += vector1[i] * vector2[i]\n",
        "\n",
        "    print(\"Dot product:\", dotProduct)\n"
      ],
      "metadata": {
        "id": "h3ABvs1gOu5f"
      },
      "execution_count": 32,
      "outputs": []
    },
    {
      "cell_type": "code",
      "source": [
        "vector1 = [1, 0, 2, 0, 3]\n",
        "vector2 = [1, 2, 0, 3, 1]\n",
        "problem3(vector1, vector2)"
      ],
      "metadata": {
        "colab": {
          "base_uri": "https://localhost:8080/"
        },
        "id": "nPsgn_FtOxO1",
        "outputId": "9c302254-6ad0-4bc2-b950-4f9fc61c4e44"
      },
      "execution_count": 33,
      "outputs": [
        {
          "output_type": "stream",
          "name": "stdout",
          "text": [
            "Dot product: 4\n"
          ]
        }
      ]
    },
    {
      "cell_type": "code",
      "source": [
        "# Copilot\n",
        "\n",
        "def dotProductSparseVectors(vector1, vector2):\n",
        "    if len(vector1) != len(vector2):\n",
        "        raise ValueError(\"Vectors must be of the same length\")\n",
        "\n",
        "    return sum(x * y for x, y in zip(vector1, vector2))\n",
        "\n",
        "vector1 = [1, 0, 2, 0, 3]\n",
        "vector2 = [1, 2, 0, 3, 1]\n",
        "result = dotProductSparseVectors(vector1, vector2)\n",
        "print(result)\n"
      ],
      "metadata": {
        "colab": {
          "base_uri": "https://localhost:8080/"
        },
        "id": "QoXdvDApf-4S",
        "outputId": "f9c4ddca-fab0-4aa1-8f66-5e42a76c1c91"
      },
      "execution_count": 65,
      "outputs": [
        {
          "output_type": "stream",
          "name": "stdout",
          "text": [
            "4\n"
          ]
        }
      ]
    },
    {
      "cell_type": "markdown",
      "source": [
        "# Problema 4\n",
        "\n",
        "Să se determine cuvintele unui text care apar exact o singură dată în acel text. De ex. cuvintele care apar o singură dată în ”ana are ana are mere rosii ana\" sunt: 'mere' și 'rosii'.\n"
      ],
      "metadata": {
        "id": "4QjvIo9mQ3nn"
      }
    },
    {
      "cell_type": "code",
      "source": [
        "def problem4():\n",
        "    text = input(\"Text: \")\n",
        "    words = text.split()\n",
        "    uniqueWords = []\n",
        "    # if a word is not in uniqueWords -> add it\n",
        "    # if it appears again -> delete it\n",
        "    for word in words:\n",
        "        if word not in uniqueWords:\n",
        "            uniqueWords.append(word)\n",
        "        else:\n",
        "            uniqueWords.remove(word)\n",
        "    print(\"Unique words:\", uniqueWords)\n"
      ],
      "metadata": {
        "id": "BZt9miqeRFfi"
      },
      "execution_count": 34,
      "outputs": []
    },
    {
      "cell_type": "code",
      "source": [
        "problem4()"
      ],
      "metadata": {
        "colab": {
          "base_uri": "https://localhost:8080/"
        },
        "id": "5qgu718-RHx_",
        "outputId": "64481e42-c488-4126-953d-cc4e258e376f"
      },
      "execution_count": null,
      "outputs": [
        {
          "output_type": "stream",
          "name": "stdout",
          "text": [
            "Text: dfghjkasshjese  \n",
            "Unique words: ['dfghjkasshjese']\n"
          ]
        }
      ]
    },
    {
      "cell_type": "code",
      "source": [
        "# Copilot\n",
        "def findUniqueWords(text):\n",
        "    words = text.split()\n",
        "    wordCount = {}\n",
        "\n",
        "    for word in words:\n",
        "        wordCount[word] = wordCount.get(word, 0) + 1\n",
        "\n",
        "    uniqueWords = [word for word, count in wordCount.items() if count == 1]\n",
        "    return uniqueWords\n",
        "\n",
        "text = \"ana are ana are mere rosii ana\"\n",
        "uniqueWords = findUniqueWords(text)\n",
        "print(uniqueWords)"
      ],
      "metadata": {
        "colab": {
          "base_uri": "https://localhost:8080/"
        },
        "id": "RNx6KuClgOYY",
        "outputId": "b93b75f1-321a-4e33-e19c-4c25ad5cff8f"
      },
      "execution_count": 66,
      "outputs": [
        {
          "output_type": "stream",
          "name": "stdout",
          "text": [
            "['mere', 'rosii']\n"
          ]
        }
      ]
    },
    {
      "cell_type": "markdown",
      "source": [
        "# Problema 5\n",
        "\n",
        "Pentru un șir cu n elemente care conține valori din mulțimea {1, 2, ..., n - 1} astfel încât o singură valoare se repetă de două ori, să se identifice acea valoare care se repetă.\n",
        "\n",
        "De ex. în șirul [1,2,3,4,2] valoarea 2 apare de două ori."
      ],
      "metadata": {
        "id": "P9nmMmPLR35d"
      }
    },
    {
      "cell_type": "code",
      "source": [
        "def problem5(array):\n",
        "    for val in array:\n",
        "        if array.count(val) == 2:\n",
        "            print(val)\n",
        "            break\n",
        "\n",
        "\n"
      ],
      "metadata": {
        "id": "BC2qK7U1SAnj"
      },
      "execution_count": 35,
      "outputs": []
    },
    {
      "cell_type": "code",
      "source": [
        "array = [1, 2, 3, 4, 2]\n",
        "problem5(array)"
      ],
      "metadata": {
        "id": "IctUxVXWS6zh",
        "colab": {
          "base_uri": "https://localhost:8080/"
        },
        "outputId": "4a823330-fc95-444d-87da-ce55e619014d"
      },
      "execution_count": 37,
      "outputs": [
        {
          "output_type": "stream",
          "name": "stdout",
          "text": [
            "2\n"
          ]
        }
      ]
    },
    {
      "cell_type": "markdown",
      "source": [
        "# Problema 6\n",
        "\n",
        "Pentru un șir cu n numere întregi care conține și duplicate, să se determine elementul majoritar (care apare de mai mult de n / 2 ori).\n",
        "\n",
        "De ex. 2 este elementul majoritar în șirul [2,8,7,2,2,5,2,3,1,2,2]."
      ],
      "metadata": {
        "id": "qQjbhAgofOrg"
      }
    },
    {
      "cell_type": "code",
      "source": [
        "def problem6(array):\n",
        "    # use dictionary and associate each item its count\n",
        "    count = {}\n",
        "    for val in array:\n",
        "        if val in count:\n",
        "            count[val] += 1\n",
        "        else:\n",
        "            count[val] = 1\n",
        "    for val in count:\n",
        "        if count[val] > len(array) / 2:\n",
        "            print(val)\n",
        "            break"
      ],
      "metadata": {
        "id": "V73EY_D7fTLa"
      },
      "execution_count": 39,
      "outputs": []
    },
    {
      "cell_type": "code",
      "source": [
        "array = [2, 8, 7, 2, 2, 5, 2, 3, 1, 2, 2]\n",
        "\n",
        "problem6(array)"
      ],
      "metadata": {
        "id": "rzmw7BYY9Zuu",
        "colab": {
          "base_uri": "https://localhost:8080/"
        },
        "outputId": "c648ff2d-c78f-4471-ec15-e13060700e36"
      },
      "execution_count": 40,
      "outputs": [
        {
          "output_type": "stream",
          "name": "stdout",
          "text": [
            "2\n"
          ]
        }
      ]
    },
    {
      "cell_type": "markdown",
      "source": [
        "# Problema 7\n",
        "\n",
        "Să se determine al k-lea cel mai mare element al unui șir de numere cu n elemente (k < n).\n",
        "\n",
        "De ex. al 2-lea cel mai mare element din șirul [7,4,6,3,9,1] este 7."
      ],
      "metadata": {
        "id": "sYBMx7U__vIK"
      }
    },
    {
      "cell_type": "code",
      "source": [
        "def partition(array, low, high):\n",
        "    # choose the rightmost element as pivot\n",
        "    pivot = array[high]\n",
        "    # pointer for greater element\n",
        "    i = low - 1\n",
        "    for j in range(low, high):\n",
        "      # descending order!\n",
        "        if array[j] >= pivot:\n",
        "            i = i + 1\n",
        "            (array[i], array[j]) = (array[j], array[i])\n",
        "\n",
        "    (array[i + 1], array[high]) = (array[high], array[i + 1])\n",
        "    return i + 1\n",
        "\n",
        "def quickSort(array, low, high):\n",
        "    if low < high:\n",
        "        pi = partition(array, low, high)\n",
        "        quickSort(array, low, pi - 1)\n",
        "        quickSort(array, pi + 1, high)\n",
        "\n",
        "\n",
        "def problem7(array, k):\n",
        "  # sort backwards and go until the k item\n",
        "  quickSort(array, 0, len(array) - 1)\n",
        "  print(\"The k-largest element is: \", array[k - 1])"
      ],
      "metadata": {
        "id": "ovsM2llQAEKm"
      },
      "execution_count": 16,
      "outputs": []
    },
    {
      "cell_type": "code",
      "source": [
        "problem7([7, 4, 6, 3, 9, 1], 2)"
      ],
      "metadata": {
        "colab": {
          "base_uri": "https://localhost:8080/"
        },
        "id": "p99aNy7NANu4",
        "outputId": "1c48be36-0311-4611-ed26-6de83f2d68ee"
      },
      "execution_count": 17,
      "outputs": [
        {
          "output_type": "stream",
          "name": "stdout",
          "text": [
            "The k-largest element is:  7\n"
          ]
        }
      ]
    },
    {
      "cell_type": "markdown",
      "source": [
        "# Problema 8\n",
        "\n",
        "Să se genereze toate numerele (în reprezentare binară) cuprinse între 1 și n.\n",
        "\n",
        "De ex. dacă n = 4, numerele sunt: 1, 10, 11, 100."
      ],
      "metadata": {
        "id": "SMfgc_dnEM2T"
      }
    },
    {
      "cell_type": "code",
      "source": [
        "# le pot deduce unul din altul sau trebuie sa sa le convertesc pe fiecare?\n",
        "\n",
        "def problem8(n):\n",
        "    for i in range(1, n + 1):\n",
        "        num = i\n",
        "        binary = \"\"\n",
        "        # binary conversion\n",
        "        while num > 0:\n",
        "            # repetedly divide by 2 and add the bit to the beginning\n",
        "            binary = str(num % 2) + binary\n",
        "            num = num // 2\n",
        "        print(binary)"
      ],
      "metadata": {
        "id": "rzQY5hgII0-v"
      },
      "execution_count": 28,
      "outputs": []
    },
    {
      "cell_type": "code",
      "source": [
        "problem8(16)"
      ],
      "metadata": {
        "colab": {
          "base_uri": "https://localhost:8080/"
        },
        "id": "C5nOahUBJRM_",
        "outputId": "37141b72-e57e-4808-bdb6-51ee7abf047a"
      },
      "execution_count": 29,
      "outputs": [
        {
          "output_type": "stream",
          "name": "stdout",
          "text": [
            "1\n",
            "10\n",
            "11\n",
            "100\n",
            "101\n",
            "110\n",
            "111\n",
            "1000\n",
            "1001\n",
            "1010\n",
            "1011\n",
            "1100\n",
            "1101\n",
            "1110\n",
            "1111\n",
            "10000\n"
          ]
        }
      ]
    },
    {
      "cell_type": "markdown",
      "source": [
        "# Problema 9\n",
        "\n",
        "Considerându-se o matrice cu n x m elemente întregi și o listă cu perechi formate din coordonatele a 2 căsuțe din matrice ((p,q) și (r,s)), să se calculeze suma elementelor din sub-matricile identificate de fiecare pereche.\n",
        "\n",
        "De ex, pt matricea\n",
        "\n",
        "[0, 2, 5, 4, 1],\n",
        "\n",
        "[4, 8, 2, 3, 7],\n",
        "\n",
        "[6, 3, 4, 6, 2],\n",
        "\n",
        "[7, 3, 1, 8, 3],\n",
        "\n",
        "[1, 5, 7, 9, 4]\n",
        "\n",
        "și lista de perechi ((1, 1) și (3, 3)), ((2, 2) și (4, 4)),\n",
        "suma elementelor din prima sub-matrice este 38, iar suma elementelor din a 2-a sub-matrice este 44."
      ],
      "metadata": {
        "id": "CpsXxim_EWUV"
      }
    },
    {
      "cell_type": "markdown",
      "source": [
        "# Problema 10\n",
        "Considerându-se o matrice cu n x m elemente binare (0 sau 1) sortate crescător pe linii, să se identifice indexul liniei care conține cele mai multe elemente de 1.\n",
        "\n",
        "De ex. în matricea\n",
        "\n",
        "[0,0,0,1,1],\n",
        "\n",
        "[0,1,1,1,1],\n",
        "\n",
        "[0,0,1,1,1]\n",
        "\n",
        "a doua linie conține cele mai multe elemente 1.\n"
      ],
      "metadata": {
        "id": "G30XWvhjOVXj"
      }
    },
    {
      "cell_type": "code",
      "source": [
        "# sorted -> count the zeros and remember the fewest zeros\n",
        "# make a pair: maxOnes and rowIndex\n",
        "def problem10(biArray):\n",
        "    maxPair = (-1, -1)\n",
        "\n",
        "    for i in range(len(biArray)):\n",
        "        countZeros = 0\n",
        "        j = 0\n",
        "\n",
        "        while j < len(biArray[i]) and biArray[i][j] == 0:\n",
        "            countZeros += 1\n",
        "            j += 1\n",
        "\n",
        "        countOnes = len(biArray[i]) - countZeros\n",
        "\n",
        "        if countOnes > maxPair[1]:\n",
        "            maxPair = (i, countOnes)\n",
        "\n",
        "    print(\"Row index with the most ones:\", maxPair[0] + 1)\n",
        "    print(\"Number of ones:\", maxPair[1])"
      ],
      "metadata": {
        "id": "-3fjqgHROkOM"
      },
      "execution_count": 61,
      "outputs": []
    },
    {
      "cell_type": "code",
      "source": [
        "biArray = [[0, 0, 0, 1, 1], [0, 1, 1, 1, 1], [0, 0, 1, 1, 1]]\n",
        "problem10(biArray)"
      ],
      "metadata": {
        "colab": {
          "base_uri": "https://localhost:8080/"
        },
        "id": "yZPUvKdwRW0M",
        "outputId": "dea0c2c7-9bec-41c1-ed2d-0663e2b07351"
      },
      "execution_count": 62,
      "outputs": [
        {
          "output_type": "stream",
          "name": "stdout",
          "text": [
            "Row index with the most ones: 2\n",
            "Number of ones: 4\n"
          ]
        }
      ]
    },
    {
      "cell_type": "markdown",
      "source": [
        "# Problema 11\n",
        "\n",
        "Considerându-se o matrice cu n x m elemente binare (0 sau 1), să se înlocuiască cu 1 toate aparițiile elementelor egale cu 0 care sunt complet înconjurate de 1.\n",
        "\n",
        "De ex. matricea\n",
        "\n",
        "[[1,1,1,1,0,0,1,1,0,1],\n",
        "\n",
        "[1,0,0,1,1,0,1,1,1,1],\n",
        "\n",
        "[1,0,0,1,1,1,1,1,1,1],\n",
        "\n",
        "[1,1,1,1,0,0,1,1,0,1],\n",
        "\n",
        "[1,0,0,1,1,0,1,1,0,0],\n",
        "\n",
        "[1,1,0,1,1,0,0,1,0,1],\n",
        "\n",
        "[1,1,1,0,1,0,1,0,0,1],\n",
        "\n",
        "[1,1,1,0,1,1,1,1,1,1]\n",
        "\n",
        "*devine *\n",
        "\n",
        "[1,1,1,1,0,0,1,1,0,1],\n",
        "\n",
        "[1,1,1,1,1,0,1,1,1,1],\n",
        "\n",
        "[1,1,1,1,1,1,1,1,1,1],\n",
        "\n",
        "[1,1,1,1,1,1,1,1,0,1],\n",
        "\n",
        "[1,1,1,1,1,1,1,1,0,0],\n",
        "\n",
        "[1,1,1,1,1,1,1,1,0,1],\n",
        "\n",
        "[1,1,1,0,1,1,1,0,0,1],\n",
        "\n",
        "[1,1,1,0,1,1,1,1,1,1]\n"
      ],
      "metadata": {
        "id": "D2-VfKSMd8Ci"
      }
    },
    {
      "cell_type": "code",
      "source": [],
      "metadata": {
        "id": "ZUDvDEZweQAQ"
      },
      "execution_count": null,
      "outputs": []
    }
  ]
}