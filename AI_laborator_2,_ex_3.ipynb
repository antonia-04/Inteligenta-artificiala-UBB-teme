{
  "nbformat": 4,
  "nbformat_minor": 0,
  "metadata": {
    "colab": {
      "provenance": [],
      "authorship_tag": "ABX9TyPxWtX9Vkl+r8409rHrki8S",
      "include_colab_link": true
    },
    "kernelspec": {
      "name": "python3",
      "display_name": "Python 3"
    },
    "language_info": {
      "name": "python"
    }
  },
  "cells": [
    {
      "cell_type": "markdown",
      "metadata": {
        "id": "view-in-github",
        "colab_type": "text"
      },
      "source": [
        "<a href=\"https://colab.research.google.com/github/antonia-04/Inteligenta-artificiala-UBB-teme/blob/main/AI_laborator_2%2C_ex_3.ipynb\" target=\"_parent\"><img src=\"https://colab.research.google.com/assets/colab-badge.svg\" alt=\"Open In Colab\"/></a>"
      ]
    },
    {
      "cell_type": "markdown",
      "source": [
        "## Problema 3\n",
        "\n",
        "Se da un fisier care contine un text (format din mai multe propozitii) in limba romana - a se vedea fisierul ”data/texts.txt”. Se cere sa se determine si sa se vizualizeze:\n",
        "\n",
        "* numarul de propozitii din text;\n",
        "* numarul de cuvinte din text\n",
        "* numarul de cuvinte diferite din text\n",
        "* cel mai scurt si cel mai lung cuvant (cuvinte)\n",
        "* textul fara diacritice\n",
        "* sinonimele celui mai lung cuvant din text"
      ],
      "metadata": {
        "id": "zXEBm1FqsTUa"
      }
    },
    {
      "cell_type": "code",
      "source": [
        "pip install unidecode\n"
      ],
      "metadata": {
        "colab": {
          "base_uri": "https://localhost:8080/"
        },
        "id": "BACwq_TzPeCN",
        "outputId": "3189ff2e-3f34-4076-db70-c0efeb639511"
      },
      "execution_count": 2,
      "outputs": [
        {
          "output_type": "stream",
          "name": "stdout",
          "text": [
            "Collecting unidecode\n",
            "  Downloading Unidecode-1.3.8-py3-none-any.whl.metadata (13 kB)\n",
            "Downloading Unidecode-1.3.8-py3-none-any.whl (235 kB)\n",
            "\u001b[?25l   \u001b[90m━━━━━━━━━━━━━━━━━━━━━━━━━━━━━━━━━━━━━━━━\u001b[0m \u001b[32m0.0/235.5 kB\u001b[0m \u001b[31m?\u001b[0m eta \u001b[36m-:--:--\u001b[0m\r\u001b[2K   \u001b[91m━━━━━━━━━━━━━━━━━━━━━━━━\u001b[0m\u001b[90m╺\u001b[0m\u001b[90m━━━━━━━━━━━━━━━\u001b[0m \u001b[32m143.4/235.5 kB\u001b[0m \u001b[31m4.0 MB/s\u001b[0m eta \u001b[36m0:00:01\u001b[0m\r\u001b[2K   \u001b[90m━━━━━━━━━━━━━━━━━━━━━━━━━━━━━━━━━━━━━━━━\u001b[0m \u001b[32m235.5/235.5 kB\u001b[0m \u001b[31m4.2 MB/s\u001b[0m eta \u001b[36m0:00:00\u001b[0m\n",
            "\u001b[?25hInstalling collected packages: unidecode\n",
            "Successfully installed unidecode-1.3.8\n"
          ]
        }
      ]
    },
    {
      "cell_type": "code",
      "execution_count": 7,
      "metadata": {
        "colab": {
          "base_uri": "https://localhost:8080/"
        },
        "id": "9Gkk74RHsPSZ",
        "outputId": "5a4ea19c-0963-490b-b60f-bedbacbcb4ab"
      },
      "outputs": [
        {
          "output_type": "stream",
          "name": "stdout",
          "text": [
            "Numărul de propoziții: 10\n",
            "Numărul de cuvinte: 160\n",
            "Numărul de cuvinte diferite: 97\n",
            "Cel mai scurt cuvânt: o\n",
            "Cel mai lung cuvânt: Confiiiiiiiiiiiiiiiiiiiiiiiiiiiirm\n",
            "Cel mai lung cuvânt (normalizat): Confirm\n",
            "Textul fără diacritice: Mesaj de informare: \n",
            "Cursul si laboratoarele de Inteligenta Artificiala vor fi o \n",
            "provocare pentru toti. Suntem convinsi ca veti realiza proiecte \n",
            "foarte interesante. Va incurajam sa adresati intrebari atunci \n",
            "cand ceva nu e clar, atat in mod live, cat si folosind platforma \n",
            "Teams, canalul \"general\". \n",
            "Daca ati citit pana aici, va rugam sa lasati un mesaj pe canalul \n",
            "general cu textul \"Confiiiiiiiiiiiiiiiiiiiiiiiiiiiirm ca am citit \n",
            "textul pentru problema 3 din lab2\". \n",
            "--\n",
            "Mesaj de informare generat de ChatGPT:\n",
            "Stimati cursanti,\n",
            "Suntem incantati sa va avem in echipa noastra pentru Cursul si \n",
            "laboratoarele de Inteligenta Artificiala. Aceasta experienta va \n",
            "fi o adevarata provocare, dar suntem convinsi ca veti realiza \n",
            "proiecte extrem de interesante.\n",
            "Va incurajam sa fiti activi si sa adresati intrebari atunci cand \n",
            "ceva nu este clar. Fie ca este vorba de o discutie in timp real \n",
            "sau prin intermediul platformei Teams, canalul \"general\", suntem \n",
            "aici sa va sprijinim.\n",
            "Succes si sa inceapa aventura AI!\n",
            "Cu consideratie, Echipa de Inteligenta Artificiala\n",
            "Sinonimele cuvântului: adeveri, corobora, definitiva\n"
          ]
        }
      ],
      "source": [
        "import unidecode\n",
        "import re\n",
        "import requests\n",
        "from bs4 import BeautifulSoup\n",
        "\n",
        "# Citim textul din fișier\n",
        "filePath = \"/content/texts.txt\"\n",
        "try:\n",
        "    with open(filePath, 'r', encoding='utf-8') as f:\n",
        "        text = f.read()\n",
        "except FileNotFoundError:\n",
        "    print(f\"Eroare: Fișierul '{filePath}' nu a fost găsit.\")\n",
        "    text = \"\"\n",
        "\n",
        "# propozitiile -> nr propozitiile\n",
        "sentences = re.split(r'[.!?]', text)\n",
        "numSentences = len([s for s in sentences if s.strip()])\n",
        "\n",
        "# extragem cuvintele fara semne de punctuatie\n",
        "words = re.findall(r'\\b\\w+\\b', text)\n",
        "numWords = len(words)\n",
        "\n",
        "# numaram cuvintele unice\n",
        "uniqueWords = set(words)\n",
        "numUniqueWords = len(uniqueWords)\n",
        "\n",
        "# cel mai lung si cel mai scurt cuvant\n",
        "if words:\n",
        "    shortestWord = min(words, key=len)\n",
        "    longestWord = max(words, key=len)\n",
        "else:\n",
        "    shortestWord = \"\"\n",
        "    longestWord = \"\"\n",
        "\n",
        "# normalizam cel mai lung cuvant\n",
        "normalizedWord = re.sub(r'(.)\\1+', r'\\1', longestWord)\n",
        "\n",
        "# fara diacritice\n",
        "textWithoutDiacritics = unidecode.unidecode(text)\n",
        "\n",
        "# cautam sinonime pentru cel mai lung cuvant\n",
        "def getSynonyms(word):\n",
        "    url = f\"https://dexonline.ro/intrare/{word}\"\n",
        "    headers = {\"User-Agent\": \"Mozilla/5.0 (Windows NT 10.0; Win64; x64) AppleWebKit/537.36 (KHTML, like Gecko) Chrome/110.0.0.0 Safari/537.36\"}\n",
        "\n",
        "    response = requests.get(url, headers=headers)\n",
        "    synonyms = []\n",
        "    if response.status_code == 200:\n",
        "        soup = BeautifulSoup(response.text, 'html.parser')\n",
        "        for span in soup.find_all(\"span\", class_=\"badge-relation badge-relation-1\"):\n",
        "            link = span.find(\"a\")\n",
        "            if link:\n",
        "                synonyms.append(link.text.strip())\n",
        "    return synonyms\n",
        "\n",
        "# verificam sinonimele\n",
        "synonyms = getSynonyms(longestWord)\n",
        "if len(synonyms) == 0:\n",
        "    synonyms = getSynonyms(normalizedWord)\n",
        "\n",
        "# Afisam rezultatele\n",
        "print(\"Numărul de propoziții:\", numSentences)\n",
        "print(\"Numărul de cuvinte:\", numWords)\n",
        "print(\"Numărul de cuvinte diferite:\", numUniqueWords)\n",
        "print(\"Cel mai scurt cuvânt:\", shortestWord)\n",
        "print(\"Cel mai lung cuvânt:\", longestWord)\n",
        "print(\"Cel mai lung cuvânt (normalizat):\", normalizedWord)\n",
        "print(\"Textul fără diacritice:\", textWithoutDiacritics)\n",
        "print(\"Sinonimele cuvântului:\", \", \".join(synonyms) if synonyms else \"Niciun sinonim găsit\")\n"
      ]
    }
  ]
}