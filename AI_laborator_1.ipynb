{
  "nbformat": 4,
  "nbformat_minor": 0,
  "metadata": {
    "colab": {
      "provenance": [],
      "authorship_tag": "ABX9TyMs8gxtK/kr55OEFYZc8Zgk",
      "include_colab_link": true
    },
    "kernelspec": {
      "name": "python3",
      "display_name": "Python 3"
    },
    "language_info": {
      "name": "python"
    }
  },
  "cells": [
    {
      "cell_type": "markdown",
      "metadata": {
        "id": "view-in-github",
        "colab_type": "text"
      },
      "source": [
        "<a href=\"https://colab.research.google.com/github/antonia-04/Inteligenta-artificiala-UBB-teme/blob/main/AI_laborator_1.ipynb\" target=\"_parent\"><img src=\"https://colab.research.google.com/assets/colab-badge.svg\" alt=\"Open In Colab\"/></a>"
      ]
    },
    {
      "cell_type": "markdown",
      "source": [
        "# **Laborator 1 - Inteligență artificială**\n",
        "\n",
        "\n",
        "### Cerințe\n",
        "\n",
        "* Specificaţi, implementaţi și testați subalgoritmi pentru problemele\n",
        "enuntate.\n",
        "* Încercați să rezolvați fiecare cerință cât mai eficient (ca număr de pași și / sau ca resurse de memorie folosite).\n",
        "* Comparati, din punct de vedere al complexitatii temporale si spatiale, solutia propusa de voi (pentru fiecare problema) cu solutia generata de un bot inteligent (e.g. copilot).\n"
      ],
      "metadata": {
        "id": "GmZE6rKqONdt"
      }
    },
    {
      "cell_type": "markdown",
      "source": [
        "# Problema 1\n",
        "\n",
        "Să se determine ultimul (din punct de vedere alfabetic) cuvânt care poate apărea într-un text care conține mai multe cuvinte separate prin ” ” (spațiu). De ex. ultimul (dpdv alfabetic) cuvânt din ”Ana are mere rosii si galbene” este cuvântul \"si\"."
      ],
      "metadata": {
        "id": "wg713M1iKDcB"
      }
    },
    {
      "cell_type": "code",
      "source": [
        "def problem1():\n",
        "    text = input(\"Enter a text: \")\n",
        "    words = text.split()\n",
        "    lastWord = \"\"\n",
        "    for word in words:\n",
        "        if word > lastWord:\n",
        "            lastWord = word\n",
        "    print(lastWord)\n"
      ],
      "metadata": {
        "id": "4iAi5vtjKGOh"
      },
      "execution_count": null,
      "outputs": []
    },
    {
      "cell_type": "code",
      "source": [
        "problem1()"
      ],
      "metadata": {
        "id": "kZ0PNSZxLq0b"
      },
      "execution_count": null,
      "outputs": []
    },
    {
      "cell_type": "markdown",
      "source": [
        "# Problema 2\n",
        "\n",
        "Să se determine distanța Euclideană între două locații identificate prin perechi de numere.\n",
        "De ex. distanța între (1,5) și (4,1) este 5.0\n",
        "\n",
        "$$ d = \\sqrt{(x_2 - x_1)^2 + (y_2 - y_1)^2} $$\n",
        "\n"
      ],
      "metadata": {
        "id": "lotA5iz5ZfKD"
      }
    },
    {
      "cell_type": "code",
      "source": [
        "import math\n",
        "\n",
        "def problem2():\n",
        "    xA = float(input(\"xA: \"))\n",
        "    yA = float(input(\"yA: \"))\n",
        "    xB = float(input(\"xB: \"))\n",
        "    yB = float(input(\"yB: \"))\n",
        "    distance = math.sqrt((xB - xA) ** 2 + (yB - yA) ** 2)\n",
        "    print(\"Distance found:\", distance)\n",
        "\n"
      ],
      "metadata": {
        "id": "K1P5qlzrMXtZ"
      },
      "execution_count": null,
      "outputs": []
    },
    {
      "cell_type": "code",
      "source": [
        "problem2()"
      ],
      "metadata": {
        "colab": {
          "base_uri": "https://localhost:8080/"
        },
        "id": "_HFr7WwbMbrT",
        "outputId": "3b1e8d96-059a-4999-9c76-7d28f0e5e531"
      },
      "execution_count": null,
      "outputs": [
        {
          "output_type": "stream",
          "name": "stdout",
          "text": [
            "xA: 1\n",
            "yA: 5\n",
            "xB: 5\n",
            "yB: 1\n",
            "Distance found: 5.656854249492381\n"
          ]
        }
      ]
    },
    {
      "cell_type": "markdown",
      "source": [
        "# Problema 3\n",
        "\n",
        "Să se determine produsul scalar a doi vectori rari care conțin numere reale. Un vector este rar atunci când conține multe elemente nule. Vectorii pot avea oricâte dimensiuni.\n",
        "\n",
        "De ex. produsul scalar a 2 vectori unidimensionali [1,0,2,0,3] și [1,2,0,3,1] este 4."
      ],
      "metadata": {
        "id": "-SCbLct4N4uF"
      }
    },
    {
      "cell_type": "code",
      "source": [
        "def problem3():\n",
        "    vector1 = [1, 0, 2, 0, 3]\n",
        "    vector2 = [1, 2, 0, 3, 1]\n",
        "\n",
        "    dotProduct = 0\n",
        "\n",
        "    for i in range(len(vector1)):\n",
        "        dotProduct += vector1[i] * vector2[i]\n",
        "\n",
        "    print(\"Dot product:\", dotProduct)\n"
      ],
      "metadata": {
        "id": "h3ABvs1gOu5f"
      },
      "execution_count": null,
      "outputs": []
    },
    {
      "cell_type": "code",
      "source": [
        "problem3()"
      ],
      "metadata": {
        "colab": {
          "base_uri": "https://localhost:8080/"
        },
        "id": "nPsgn_FtOxO1",
        "outputId": "74aee8ca-aa6c-4902-858c-fa6d4aa82545"
      },
      "execution_count": null,
      "outputs": [
        {
          "output_type": "stream",
          "name": "stdout",
          "text": [
            "Dot product: 4\n"
          ]
        }
      ]
    },
    {
      "cell_type": "markdown",
      "source": [
        "# Problema 4\n",
        "\n",
        "Să se determine cuvintele unui text care apar exact o singură dată în acel text. De ex. cuvintele care apar o singură dată în ”ana are ana are mere rosii ana\" sunt: 'mere' și 'rosii'.\n"
      ],
      "metadata": {
        "id": "4QjvIo9mQ3nn"
      }
    },
    {
      "cell_type": "code",
      "source": [
        "def problem4():\n",
        "    text = input(\"Text: \")\n",
        "    words = text.split()\n",
        "    uniqueWords = []\n",
        "    # if a word is not in uniqueWords, add it\n",
        "    # if it appears again, delete it\n",
        "    for word in words:\n",
        "        if word not in uniqueWords:\n",
        "            uniqueWords.append(word)\n",
        "        else:\n",
        "            uniqueWords.remove(word)\n",
        "    print(\"Unique words:\", uniqueWords)\n"
      ],
      "metadata": {
        "id": "BZt9miqeRFfi"
      },
      "execution_count": null,
      "outputs": []
    },
    {
      "cell_type": "code",
      "source": [
        "problem4()"
      ],
      "metadata": {
        "colab": {
          "base_uri": "https://localhost:8080/"
        },
        "id": "5qgu718-RHx_",
        "outputId": "64481e42-c488-4126-953d-cc4e258e376f"
      },
      "execution_count": null,
      "outputs": [
        {
          "output_type": "stream",
          "name": "stdout",
          "text": [
            "Text: dfghjkasshjese  \n",
            "Unique words: ['dfghjkasshjese']\n"
          ]
        }
      ]
    },
    {
      "cell_type": "markdown",
      "source": [
        "# Problema 5\n",
        "\n",
        "Pentru un șir cu n elemente care conține valori din mulțimea {1, 2, ..., n - 1} astfel încât o singură valoare se repetă de două ori, să se identifice acea valoare care se repetă.\n",
        "\n",
        "De ex. în șirul [1,2,3,4,2] valoarea 2 apare de două ori."
      ],
      "metadata": {
        "id": "P9nmMmPLR35d"
      }
    },
    {
      "cell_type": "code",
      "source": [
        "def problem5():\n",
        "    array = [1, 2, 3, 4, 2]\n",
        "    for val in array:\n",
        "        if array.count(val) == 2:\n",
        "            print(val)\n",
        "            break\n",
        "\n",
        "\n"
      ],
      "metadata": {
        "id": "BC2qK7U1SAnj"
      },
      "execution_count": null,
      "outputs": []
    },
    {
      "cell_type": "code",
      "source": [
        "problem5()"
      ],
      "metadata": {
        "id": "IctUxVXWS6zh",
        "colab": {
          "base_uri": "https://localhost:8080/"
        },
        "outputId": "ba0292a7-7eec-47a3-82a0-63e03e6bbb9e"
      },
      "execution_count": null,
      "outputs": [
        {
          "output_type": "stream",
          "name": "stdout",
          "text": [
            "2\n"
          ]
        }
      ]
    },
    {
      "cell_type": "markdown",
      "source": [
        "# Problema 6\n",
        "\n",
        "Pentru un șir cu n numere întregi care conține și duplicate, să se determine elementul majoritar (care apare de mai mult de n / 2 ori).\n",
        "\n",
        "De ex. 2 este elementul majoritar în șirul [2,8,7,2,2,5,2,3,1,2,2]."
      ],
      "metadata": {
        "id": "qQjbhAgofOrg"
      }
    },
    {
      "cell_type": "code",
      "source": [
        "def problem6():\n",
        "    array = [2, 8, 7, 2, 2, 5, 2, 3, 1, 2, 2]"
      ],
      "metadata": {
        "id": "V73EY_D7fTLa"
      },
      "execution_count": null,
      "outputs": []
    },
    {
      "cell_type": "code",
      "source": [],
      "metadata": {
        "id": "rzmw7BYY9Zuu"
      },
      "execution_count": null,
      "outputs": []
    }
  ]
}