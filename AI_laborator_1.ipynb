{
  "nbformat": 4,
  "nbformat_minor": 0,
  "metadata": {
    "colab": {
      "provenance": [],
      "authorship_tag": "ABX9TyPCYhgzjF2uJyHSDHqoFWfw",
      "include_colab_link": true
    },
    "kernelspec": {
      "name": "python3",
      "display_name": "Python 3"
    },
    "language_info": {
      "name": "python"
    }
  },
  "cells": [
    {
      "cell_type": "markdown",
      "metadata": {
        "id": "view-in-github",
        "colab_type": "text"
      },
      "source": [
        "<a href=\"https://colab.research.google.com/github/antonia-04/Inteligenta-artificiala-UBB-teme/blob/main/AI_laborator_1.ipynb\" target=\"_parent\"><img src=\"https://colab.research.google.com/assets/colab-badge.svg\" alt=\"Open In Colab\"/></a>"
      ]
    },
    {
      "cell_type": "markdown",
      "source": [
        "# **Laborator 1 - Inteligență artificială**\n",
        "\n",
        "\n",
        "### Cerințe\n",
        "\n",
        "* Specificaţi, implementaţi și testați subalgoritmi pentru problemele\n",
        "enuntate.\n",
        "* Încercați să rezolvați fiecare cerință cât mai eficient (ca număr de pași și / sau ca resurse de memorie folosite).\n",
        "* Comparati, din punct de vedere al complexitatii temporale si spatiale, solutia propusa de voi (pentru fiecare problema) cu solutia generata de un bot inteligent (e.g. copilot).\n"
      ],
      "metadata": {
        "id": "GmZE6rKqONdt"
      }
    },
    {
      "cell_type": "markdown",
      "source": [
        "# Problema 1\n",
        "\n",
        "Să se determine ultimul (din punct de vedere alfabetic) cuvânt care poate apărea într-un text care conține mai multe cuvinte separate prin ” ” (spațiu). De ex. ultimul (dpdv alfabetic) cuvânt din ”Ana are mere rosii si galbene” este cuvântul \"si\"."
      ],
      "metadata": {
        "id": "wg713M1iKDcB"
      }
    },
    {
      "cell_type": "code",
      "source": [
        "\"\"\" Finds the lexicographically/alphabetical last word in a given text.\n",
        "\n",
        "    Args: text (str): A string containing multiple words separated by spaces.\n",
        "    Returns: str: The word that appears last in alphabetical order.\n",
        "\"\"\"\n",
        "def problem1(text):\n",
        "    words = text.split()\n",
        "    lastWord = \"\"\n",
        "    for word in words:\n",
        "        if word > lastWord:\n",
        "            lastWord = word\n",
        "    return lastWord\n"
      ],
      "metadata": {
        "id": "4iAi5vtjKGOh"
      },
      "execution_count": 101,
      "outputs": []
    },
    {
      "cell_type": "code",
      "source": [
        "problem1(\"ana are mere rosii si galbene\")\n",
        "\n",
        "# TESTING\n",
        "assert problem1(\"Ana are mere rosii si galbene\") == \"si\"\n",
        "assert problem1(\"zebra alfa beta gamma delta\") == \"zebra\""
      ],
      "metadata": {
        "id": "kZ0PNSZxLq0b"
      },
      "execution_count": 46,
      "outputs": []
    },
    {
      "cell_type": "code",
      "source": [
        "# Copilot\n",
        "def findLastAlphabeticalWord(text):\n",
        "    words = text.split()\n",
        "    return max(words)\n",
        "\n",
        "text = \"Ana are mere rosii si galbene\"\n",
        "lastWord = findLastAlphabeticalWord(text)\n",
        "print(lastWord)"
      ],
      "metadata": {
        "colab": {
          "base_uri": "https://localhost:8080/"
        },
        "id": "dAdN0u4bfr6e",
        "outputId": "7bc287e0-97f6-4fdb-ba9a-23f33ecf099e"
      },
      "execution_count": 36,
      "outputs": [
        {
          "output_type": "stream",
          "name": "stdout",
          "text": [
            "si\n"
          ]
        }
      ]
    },
    {
      "cell_type": "markdown",
      "source": [
        "# Problema 2\n",
        "\n",
        "Să se determine distanța Euclideană între două locații identificate prin perechi de numere.\n",
        "De ex. distanța între (1,5) și (4,1) este 5.0\n",
        "\n",
        "$$ d = \\sqrt{(x_2 - x_1)^2 + (y_2 - y_1)^2} $$\n",
        "\n"
      ],
      "metadata": {
        "id": "lotA5iz5ZfKD"
      }
    },
    {
      "cell_type": "code",
      "source": [
        "import math\n",
        "\n",
        "# math.dist Return Value:\tA float value, representing the Euclidean distance between p and q\n",
        "\n",
        "\"\"\"Computes the Euclidean distance between two points in N-dimensional space.\n",
        "\n",
        "    Args:\n",
        "        A (tuple): Coordinates of the first point.\n",
        "        B (tuple): Coordinates of the second point.\n",
        "    Returns:\n",
        "        float: The Euclidean distance between A and B.\n",
        "\"\"\"\n",
        "def problem2(A, B):\n",
        "    distance = math.dist(A, B)\n",
        "    return distance"
      ],
      "metadata": {
        "id": "K1P5qlzrMXtZ"
      },
      "execution_count": 47,
      "outputs": []
    },
    {
      "cell_type": "code",
      "source": [
        "A = [1, 5]\n",
        "B = [4, 1]\n",
        "problem2(A, B)\n",
        "\n",
        "#TESTING\n",
        "assert problem2([1, 5], [4, 1]) == 5.0\n",
        "assert problem2([0, 0], [3, 4]) == 5.0"
      ],
      "metadata": {
        "id": "_HFr7WwbMbrT"
      },
      "execution_count": 49,
      "outputs": []
    },
    {
      "cell_type": "code",
      "source": [
        "# Copilot\n",
        "import math\n",
        "\n",
        "def euclidean_distance(point1, point2):\n",
        "    return math.sqrt((point2[0] - point1[0]) ** 2 + (point2[1] - point1[1]) ** 2)\n",
        "\n",
        "point1 = (1, 5)\n",
        "point2 = (4, 1)\n",
        "distance = euclidean_distance(point1, point2)\n",
        "print(distance)"
      ],
      "metadata": {
        "colab": {
          "base_uri": "https://localhost:8080/"
        },
        "id": "Qrx6QwuIf0Di",
        "outputId": "9333817c-db3c-4f4a-d6e3-b35e6f507bd0"
      },
      "execution_count": null,
      "outputs": [
        {
          "output_type": "stream",
          "name": "stdout",
          "text": [
            "5.0\n"
          ]
        }
      ]
    },
    {
      "cell_type": "markdown",
      "source": [
        "# Problema 3\n",
        "\n",
        "Să se determine produsul scalar a doi vectori rari care conțin numere reale. Un vector este rar atunci când conține multe elemente nule. Vectorii pot avea oricâte dimensiuni.\n",
        "\n",
        "De ex. produsul scalar a 2 vectori unidimensionali [1,0,2,0,3] și [1,2,0,3,1] este 4.\n",
        "\n",
        "$\n",
        "\\mathbf{v_1} \\cdot \\mathbf{v_2} = \\sum_{i=1}^{n} v_{1,i} \\cdot v_{2,i}\n",
        "$\n",
        "\n",
        "unde $\\mathbf{v_1} = [v_{1,1}, v_{1,2}, \\dots, v_{1,n}]$ și $\\mathbf{v_2} = [v_{2,1}, v_{2,2}, \\dots, v_{2,n}]$.\n",
        "\n"
      ],
      "metadata": {
        "id": "-SCbLct4N4uF"
      }
    },
    {
      "cell_type": "code",
      "source": [
        "\"\"\"Computes the dot product of two vectors.\n",
        "\n",
        "    Args:\n",
        "        vector1 (list[float]): The first vector.\n",
        "        vector2 (list[float]): The second vector.\n",
        "    Returns:\n",
        "        float: The dot product of the two vectors.\n",
        "\"\"\"\n",
        "def problem3(vector1, vector2):\n",
        "\n",
        "    dotProduct = 0\n",
        "\n",
        "    for i in range(len(vector1)):\n",
        "        dotProduct += vector1[i] * vector2[i]\n",
        "\n",
        "    return dotProduct\n"
      ],
      "metadata": {
        "id": "h3ABvs1gOu5f"
      },
      "execution_count": 51,
      "outputs": []
    },
    {
      "cell_type": "code",
      "source": [
        "vector1 = [1, 0, 2, 0, 3]\n",
        "vector2 = [1, 2, 0, 3, 1]\n",
        "problem3(vector1, vector2)\n",
        "\n",
        "# TESTING\n",
        "assert problem3([1, 0, 2, 0, 3], [1, 2, 0, 3, 1]) == 4"
      ],
      "metadata": {
        "id": "nPsgn_FtOxO1"
      },
      "execution_count": 52,
      "outputs": []
    },
    {
      "cell_type": "code",
      "source": [
        "# Copilot\n",
        "\n",
        "def dotProductSparseVectors(vector1, vector2):\n",
        "    if len(vector1) != len(vector2):\n",
        "        raise ValueError(\"Vectors must be of the same length\")\n",
        "\n",
        "    return sum(x * y for x, y in zip(vector1, vector2))\n",
        "\n",
        "vector1 = [1, 0, 2, 0, 3]\n",
        "vector2 = [1, 2, 0, 3, 1]\n",
        "result = dotProductSparseVectors(vector1, vector2)\n",
        "print(result)\n"
      ],
      "metadata": {
        "colab": {
          "base_uri": "https://localhost:8080/"
        },
        "id": "QoXdvDApf-4S",
        "outputId": "f9c4ddca-fab0-4aa1-8f66-5e42a76c1c91"
      },
      "execution_count": null,
      "outputs": [
        {
          "output_type": "stream",
          "name": "stdout",
          "text": [
            "4\n"
          ]
        }
      ]
    },
    {
      "cell_type": "markdown",
      "source": [
        "# Problema 4\n",
        "\n",
        "Să se determine cuvintele unui text care apar exact o singură dată în acel text. De ex. cuvintele care apar o singură dată în ”ana are ana are mere rosii ana\" sunt: 'mere' și 'rosii'.\n"
      ],
      "metadata": {
        "id": "4QjvIo9mQ3nn"
      }
    },
    {
      "cell_type": "code",
      "source": [
        "\"\"\"\n",
        "    Finds words that appear exactly once in a given text.\n",
        "\n",
        "    Args:\n",
        "        text (str): A string containing multiple words separated by spaces.\n",
        "    Returns:\n",
        "        foundOnce[str]: A list of words that occur only once in the text.\n",
        "\"\"\"\n",
        "def problem4(text):\n",
        "    words = text.split()\n",
        "    # dictionary for counting the words\n",
        "    uniqueWords = {}\n",
        "    foundOnce = []\n",
        "\n",
        "    for word in words:\n",
        "        if word in uniqueWords:\n",
        "            uniqueWords[word] += 1\n",
        "        else:\n",
        "            uniqueWords[word] = 1\n",
        "\n",
        "    for word, count in uniqueWords.items():\n",
        "        if count == 1:\n",
        "            foundOnce.append(word)\n",
        "\n",
        "    return foundOnce\n"
      ],
      "metadata": {
        "id": "BZt9miqeRFfi"
      },
      "execution_count": 53,
      "outputs": []
    },
    {
      "cell_type": "code",
      "source": [
        "problem4(\"cuvant1 cuvant1 ana are mere ana are mere si ana e la facultate\")\n",
        "\n",
        "# TESTING\n",
        "assert problem4(\"ana are ana are mere rosii ana\") == ['mere', 'rosii']\n",
        "assert problem4(\"ana are mere rosii\") == ['ana', 'are', 'mere', 'rosii']"
      ],
      "metadata": {
        "id": "5qgu718-RHx_"
      },
      "execution_count": 56,
      "outputs": []
    },
    {
      "cell_type": "code",
      "source": [
        "# Copilot\n",
        "def findUniqueWords(text):\n",
        "    words = text.split()\n",
        "    wordCount = {}\n",
        "\n",
        "    for word in words:\n",
        "        wordCount[word] = wordCount.get(word, 0) + 1\n",
        "\n",
        "    uniqueWords = [word for word, count in wordCount.items() if count == 1]\n",
        "    return uniqueWords\n",
        "\n",
        "text = \"ana are ana are mere rosii ana\"\n",
        "uniqueWords = findUniqueWords(text)\n",
        "print(uniqueWords)"
      ],
      "metadata": {
        "colab": {
          "base_uri": "https://localhost:8080/"
        },
        "id": "RNx6KuClgOYY",
        "outputId": "b93b75f1-321a-4e33-e19c-4c25ad5cff8f"
      },
      "execution_count": null,
      "outputs": [
        {
          "output_type": "stream",
          "name": "stdout",
          "text": [
            "['mere', 'rosii']\n"
          ]
        }
      ]
    },
    {
      "cell_type": "markdown",
      "source": [
        "# Problema 5\n",
        "\n",
        "Pentru un șir cu n elemente care conține valori din mulțimea {1, 2, ..., n - 1} astfel încât o singură valoare se repetă de două ori, să se identifice acea valoare care se repetă.\n",
        "\n",
        "De ex. în șirul [1,2,3,4,2] valoarea 2 apare de două ori."
      ],
      "metadata": {
        "id": "P9nmMmPLR35d"
      }
    },
    {
      "cell_type": "code",
      "source": [
        "\"\"\"Finds the only duplicated value in a list.\n",
        "\n",
        "    Args:\n",
        "        array (list[int]): A list of integers where exactly one value appears twice.\n",
        "    Returns:\n",
        "        int: The duplicated value.\n",
        "\"\"\"\n",
        "def problem5(array):\n",
        "    for val in array:\n",
        "        if array.count(val) == 2:\n",
        "            # it's known that we only have one duplicated value\n",
        "            return(val)"
      ],
      "metadata": {
        "id": "BC2qK7U1SAnj"
      },
      "execution_count": 60,
      "outputs": []
    },
    {
      "cell_type": "code",
      "source": [
        "array = [1, 2, 3, 4, 2]\n",
        "problem5(array)\n",
        "\n",
        "# TESTING\n",
        "assert problem5([1, 2, 3, 4, 2]) == 2"
      ],
      "metadata": {
        "id": "IctUxVXWS6zh"
      },
      "execution_count": 61,
      "outputs": []
    },
    {
      "cell_type": "code",
      "source": [
        "# Copilot\n",
        "def findDuplicateValue(arr):\n",
        "    valueSet = set()\n",
        "    for value in arr:\n",
        "        if value in valueSet:\n",
        "            return value\n",
        "        valueSet.add(value)\n",
        "    return None\n",
        "\n",
        "arr = [1, 2, 3, 4, 2]\n",
        "duplicateValue = findDuplicateValue(arr)\n",
        "print(duplicateValue)"
      ],
      "metadata": {
        "colab": {
          "base_uri": "https://localhost:8080/"
        },
        "id": "2SSjBdjZhJra",
        "outputId": "0a4b746e-43a6-44d2-ecb3-3b133ca92f93"
      },
      "execution_count": null,
      "outputs": [
        {
          "output_type": "stream",
          "name": "stdout",
          "text": [
            "2\n"
          ]
        }
      ]
    },
    {
      "cell_type": "markdown",
      "source": [
        "# Problema 6\n",
        "\n",
        "Pentru un șir cu n numere întregi care conține și duplicate, să se determine elementul majoritar (care apare de mai mult de n / 2 ori).\n",
        "\n",
        "De ex. 2 este elementul majoritar în șirul [2,8,7,2,2,5,2,3,1,2,2].\n",
        "\n",
        "Check https://www.geeksforgeeks.org/boyer-moore-majority-voting-algorithm/"
      ],
      "metadata": {
        "id": "qQjbhAgofOrg"
      }
    },
    {
      "cell_type": "code",
      "source": [
        "\"\"\"Finds the majority element in a list (the element that appears more than n/2 times).\n",
        "\n",
        "    Args:\n",
        "        array (list[int]): A list of integers.\n",
        "    Returns:\n",
        "        int: The majority element, or None if no such element exists.\n",
        "\"\"\"\n",
        "def problem6(array):\n",
        "    # use dictionary and associate each item its count\n",
        "    count = {}\n",
        "    for val in array:\n",
        "        if val in count:\n",
        "            count[val] += 1\n",
        "        else:\n",
        "            count[val] = 1\n",
        "    for val in count:\n",
        "        if count[val] > len(array) / 2:\n",
        "            return val"
      ],
      "metadata": {
        "id": "V73EY_D7fTLa"
      },
      "execution_count": 64,
      "outputs": []
    },
    {
      "cell_type": "code",
      "source": [
        "array = [2, 8, 7, 2, 2, 5, 2, 3, 1, 2, 2]\n",
        "\n",
        "problem6(array)\n",
        "\n",
        "# TESTING\n",
        "assert problem6([2, 8, 7, 2, 2, 5, 2, 3, 1, 2, 2]) == 2"
      ],
      "metadata": {
        "id": "rzmw7BYY9Zuu"
      },
      "execution_count": 66,
      "outputs": []
    },
    {
      "cell_type": "code",
      "source": [
        "\"\"\"\n",
        "    Finds the majority element in a list (the element that appears more than n/2 times).\n",
        "    Uses the Boyer-Moore Majority Voting Algorithm.\n",
        "    Args:\n",
        "        array (list[int]): A list of integers.\n",
        "    Returns:\n",
        "        int: The majority element, or None if no such element exists.\n",
        "\"\"\"\n",
        "#Boyer-Moore Majority Voting Algorithm\n",
        "def problem6Algorithm(arr, n):\n",
        "    candidate = -1\n",
        "    votes = 0\n",
        "\n",
        "    # finding majority candidate\n",
        "    for i in range (n):\n",
        "        if (votes == 0):\n",
        "            candidate = arr[i]\n",
        "            votes = 1\n",
        "        else:\n",
        "            if (arr[i] == candidate):\n",
        "                votes += 1\n",
        "            else:\n",
        "                votes -= 1\n",
        "    count = 0\n",
        "\n",
        "    # checking if majority candidate occurs more than n/2 times\n",
        "    for i in range (n):\n",
        "        if (arr[i] == candidate):\n",
        "            count += 1\n",
        "\n",
        "    if (count > n // 2):\n",
        "        return candidate\n",
        "    else:\n",
        "        return -1"
      ],
      "metadata": {
        "id": "hLZAvASsMxvR"
      },
      "execution_count": 75,
      "outputs": []
    },
    {
      "cell_type": "code",
      "source": [
        "array = [2, 8, 7, 2, 2, 5, 2, 3, 1, 2, 2]\n",
        "\n",
        "problem6Algorithm(array, len(array))\n",
        "\n",
        "# TESTING\n",
        "assert problem6Algorithm([2, 8, 7, 2, 2, 5, 2, 3, 1, 2, 2], 11) == 2"
      ],
      "metadata": {
        "id": "8lclN1-SZ-GM"
      },
      "execution_count": 77,
      "outputs": []
    },
    {
      "cell_type": "code",
      "source": [
        "# Copilot\n",
        "\n",
        "def findMajorityElement(nums):\n",
        "    count = 0\n",
        "    candidate = None\n",
        "\n",
        "    for num in nums:\n",
        "        if count == 0:\n",
        "            candidate = num\n",
        "        count += (1 if num == candidate else -1)\n",
        "\n",
        "    return candidate\n",
        "\n",
        "# Example usage\n",
        "nums = [ 8, 2, 7, 2, 2, 5, 2, 3, 1, 2, 2]\n",
        "print(findMajorityElement(nums))"
      ],
      "metadata": {
        "colab": {
          "base_uri": "https://localhost:8080/"
        },
        "id": "teGLJJtTi8K8",
        "outputId": "213c140e-f080-4372-8d07-95b1e4368285"
      },
      "execution_count": 15,
      "outputs": [
        {
          "output_type": "stream",
          "name": "stdout",
          "text": [
            "2\n"
          ]
        }
      ]
    },
    {
      "cell_type": "markdown",
      "source": [
        "# Problema 7\n",
        "\n",
        "Să se determine al k-lea cel mai mare element al unui șir de numere cu n elemente (k < n).\n",
        "\n",
        "De ex. al 2-lea cel mai mare element din șirul [7,4,6,3,9,1] este 7."
      ],
      "metadata": {
        "id": "sYBMx7U__vIK"
      }
    },
    {
      "cell_type": "code",
      "source": [
        "\"\"\"\n",
        "    Finds the k-th largest element in an array.\n",
        "    Uses the QuickSort algorithm to find the k-th largest element.\n",
        "\n",
        "    Args:\n",
        "        array (list[int]): A list of integers.\n",
        "        k (int): The index of the largest element to find.\n",
        "    Returns:\n",
        "        int: The k-th largest element in the array.\n",
        "\"\"\"\n",
        "\n",
        "def partition(array, low, high):\n",
        "    # choose the rightmost element as pivot\n",
        "    pivot = array[high]\n",
        "    # pointer for greater element\n",
        "    i = low - 1\n",
        "    for j in range(low, high):\n",
        "      # descending order!\n",
        "        if array[j] >= pivot:\n",
        "            i = i + 1\n",
        "            (array[i], array[j]) = (array[j], array[i])\n",
        "\n",
        "    (array[i + 1], array[high]) = (array[high], array[i + 1])\n",
        "    return i + 1\n",
        "\n",
        "def quickSort(array, low, high):\n",
        "    if low < high:\n",
        "        pi = partition(array, low, high)\n",
        "        quickSort(array, low, pi - 1)\n",
        "        quickSort(array, pi + 1, high)\n",
        "\n",
        "\n",
        "def problem7(array, k):\n",
        "  # sort backwards and go until the k item\n",
        "  quickSort(array, 0, len(array) - 1)\n",
        "  return array[k - 1]\n"
      ],
      "metadata": {
        "id": "ovsM2llQAEKm"
      },
      "execution_count": 102,
      "outputs": []
    },
    {
      "cell_type": "code",
      "source": [
        "problem7([7, 4, 6, 3, 9, 1], 2)\n",
        "\n",
        "# TESTING\n",
        "assert problem7([7, 4, 6, 3, 9, 1], 2) == 7"
      ],
      "metadata": {
        "id": "p99aNy7NANu4"
      },
      "execution_count": 103,
      "outputs": []
    },
    {
      "cell_type": "code",
      "source": [
        "# Copilot\n",
        "def kthLargestElement(arr, k):\n",
        "    if k >= len(arr):\n",
        "        raise ValueError(\"k must be less than the number of elements in the array\")\n",
        "\n",
        "    sortedArr = sorted(arr, reverse=True)\n",
        "    return sortedArr[k - 1]\n",
        "\n",
        "arr = [7, 4, 6, 3, 9, 1]\n",
        "k = 2\n",
        "result = kthLargestElement(arr, k)\n",
        "print(result)"
      ],
      "metadata": {
        "colab": {
          "base_uri": "https://localhost:8080/"
        },
        "id": "mA_zY8K7jMi7",
        "outputId": "808c0802-cbc2-4495-e230-6ffb5cff748d"
      },
      "execution_count": null,
      "outputs": [
        {
          "output_type": "stream",
          "name": "stdout",
          "text": [
            "7\n"
          ]
        }
      ]
    },
    {
      "cell_type": "markdown",
      "source": [
        "# Problema 8\n",
        "\n",
        "Să se genereze toate numerele (în reprezentare binară) cuprinse între 1 și n.\n",
        "\n",
        "De ex. dacă n = 4, numerele sunt: 1, 10, 11, 100."
      ],
      "metadata": {
        "id": "SMfgc_dnEM2T"
      }
    },
    {
      "cell_type": "code",
      "source": [
        "\"\"\"\n",
        "    Converts numbers from 1 to n into their binary representations.\n",
        "\n",
        "    Args:\n",
        "        n (int): The upper limit of the range (inclusive).\n",
        "\n",
        "    Returns:\n",
        "        all: list[str]: A list of binary representations of numbers from 1 to n.\n",
        "\"\"\"\n",
        "def problem8(n):\n",
        "    all = []\n",
        "    for i in range(1, n + 1):\n",
        "        num = i\n",
        "        binary = \"\"\n",
        "        # binary conversion\n",
        "        while num > 0:\n",
        "            # repetedly divide by 2 and add the bit to the beginning\n",
        "            binary = str(num % 2) + binary\n",
        "            num = num // 2\n",
        "        all.append(binary)\n",
        "    return all\n"
      ],
      "metadata": {
        "id": "rzQY5hgII0-v"
      },
      "execution_count": 104,
      "outputs": []
    },
    {
      "cell_type": "code",
      "source": [
        "problem8(4)\n",
        "\n",
        "# TESTING\n",
        "assert problem8(4) == ['1', '10', '11', '100']"
      ],
      "metadata": {
        "id": "C5nOahUBJRM_"
      },
      "execution_count": 90,
      "outputs": []
    },
    {
      "cell_type": "code",
      "source": [
        "\"\"\"\n",
        "    Converts numbers from 1 to n into their binary representations.\n",
        "\n",
        "    Args:\n",
        "        n (int): The upper limit of the range (inclusive).\n",
        "\n",
        "    Returns:\n",
        "        all: list[str]: A list of binary representations of numbers from 1 to n.\n",
        "\"\"\"\n",
        "# convert an integer to binary number\n",
        "# string slicing to remove the 0b prefix\n",
        "def problem8Algorithm(n):\n",
        "    all = []\n",
        "    for i in range(1, n + 1):\n",
        "        all.append(bin(i)[2:])\n",
        "    return all"
      ],
      "metadata": {
        "id": "iLOMZsbwOA1t"
      },
      "execution_count": 93,
      "outputs": []
    },
    {
      "cell_type": "code",
      "source": [
        "problem8Algorithm(4)\n",
        "\n",
        "# TESTING\n",
        "assert problem8Algorithm(4) == ['1', '10', '11', '100']"
      ],
      "metadata": {
        "id": "uMBZieGJOIQ2"
      },
      "execution_count": 95,
      "outputs": []
    },
    {
      "cell_type": "code",
      "source": [
        "# Copilot\n",
        "\n",
        "def generateBinaryNumbers(n):\n",
        "    binaryNumbers = []\n",
        "    for i in range(1, n + 1):\n",
        "        binaryNumbers.append(bin(i)[2:])\n",
        "    return binaryNumbers\n",
        "\n",
        "n = 4\n",
        "binaryNumbers = generateBinaryNumbers(n)\n",
        "print(binaryNumbers)"
      ],
      "metadata": {
        "colab": {
          "base_uri": "https://localhost:8080/"
        },
        "id": "tKxjwXnFjtQ4",
        "outputId": "62387cb9-c9ff-48e8-a136-cb6cb939ecd4"
      },
      "execution_count": null,
      "outputs": [
        {
          "output_type": "stream",
          "name": "stdout",
          "text": [
            "['1', '10', '11', '100']\n"
          ]
        }
      ]
    },
    {
      "cell_type": "markdown",
      "source": [
        "# Problema 9\n",
        "\n",
        "Considerându-se o matrice cu n x m elemente întregi și o listă cu perechi formate din coordonatele a 2 căsuțe din matrice ((p,q) și (r,s)), să se calculeze suma elementelor din sub-matricile identificate de fiecare pereche.\n",
        "\n",
        "De ex, pt matricea\n",
        "\n",
        "[0, 2, 5, 4, 1],\n",
        "\n",
        "[4, **8, 2, 3,** 7],\n",
        "\n",
        "[6, **3, 4, 6,** 2],\n",
        "\n",
        "[7, **3, 1, 8,** 3],\n",
        "\n",
        "[1, 5, 7, 9, 4]\n",
        "\n",
        "și lista de perechi ((1, 1) și (3, 3)), ((2, 2) și (4, 4)),\n",
        "suma elementelor din prima sub-matrice este 38, iar suma elementelor din a 2-a sub-matrice este 44."
      ],
      "metadata": {
        "id": "CpsXxim_EWUV"
      }
    },
    {
      "cell_type": "code",
      "source": [
        "\"\"\"Calculates the sum of elements within submatrices defined by pairs of coordinates.\n",
        "\n",
        "    Args:\n",
        "        matrix (list[list[int]]): A bidimensional list\n",
        "        pairs (list[tuple[tuple[int, int], tuple[int, int]]]): A list of pairs of coordinate tuples,\n",
        "                                                           where each pair defines the top-left and bottom-right corners of a submatrix.\n",
        "\n",
        "    Returns:\n",
        "        list[int]: A list of sums of the elements in each submatrix defined by the pairs of coordinates.\n",
        "\"\"\"\n",
        "\n",
        "def problem9(matrix, pairs):\n",
        "    sol = []\n",
        "    for pair in pairs:\n",
        "        s = 0\n",
        "\n",
        "        for i in range(pair[0][0], pair[1][0]+1):\n",
        "            for j in range(pair[0][1], pair[1][1]+1):\n",
        "                s += matrix[i][j]\n",
        "\n",
        "        sol.append(s)\n",
        "    return sol"
      ],
      "metadata": {
        "id": "t8I1MoiFRlxi"
      },
      "execution_count": 105,
      "outputs": []
    },
    {
      "cell_type": "code",
      "source": [
        "mat = [[0, 2, 5, 4, 1],\n",
        "           [4, 8, 2, 3, 7],\n",
        "           [6, 3, 4, 6, 2],\n",
        "           [7, 3, 1, 8, 3],\n",
        "           [1, 5, 7, 9, 4]]\n",
        "problem9(mat, [((1,1),(3,3)), ((2,2),(4,4))])\n",
        "\n",
        "# TESTING\n",
        "assert problem9(mat, [((1,1),(3,3)), ((2,2),(4,4))]) == [38, 44]"
      ],
      "metadata": {
        "id": "u-VqRYwYSaTs"
      },
      "execution_count": 106,
      "outputs": []
    },
    {
      "cell_type": "code",
      "source": [
        "# Copilot\n",
        "\n",
        "def sumSubMatrices(matrix, pairs):\n",
        "    def sumSubMatrix(matrix, topLeft, bottomRight):\n",
        "        total = 0\n",
        "        for i in range(topLeft[0], bottomRight[0] + 1):\n",
        "            for j in range(topLeft[1], bottomRight[1] + 1):\n",
        "                total += matrix[i][j]\n",
        "        return total\n",
        "\n",
        "    results = []\n",
        "    for pair in pairs:\n",
        "        topLeft, bottomRight = pair\n",
        "        results.append(sumSubMatrix(matrix, topLeft, bottomRight))\n",
        "    return results\n",
        "\n",
        "matrix = [\n",
        "    [0, 2, 5, 4, 1],\n",
        "    [4, 8, 2, 3, 7],\n",
        "    [6, 3, 4, 6, 2],\n",
        "    [7, 3, 1, 8, 3],\n",
        "    [1, 5, 7, 9, 4]\n",
        "]\n",
        "\n",
        "pairs = [((1, 1), (3, 3)), ((2, 2), (4, 4))]\n",
        "print(sumSubMatrices(matrix, pairs))  # Output: [38, 44]\n"
      ],
      "metadata": {
        "colab": {
          "base_uri": "https://localhost:8080/"
        },
        "id": "cWBlo_ojXw3Z",
        "outputId": "e573fb7e-c40d-4752-d400-3b1fdb6c1f1c"
      },
      "execution_count": 33,
      "outputs": [
        {
          "output_type": "stream",
          "name": "stdout",
          "text": [
            "[38, 44]\n"
          ]
        }
      ]
    },
    {
      "cell_type": "markdown",
      "source": [
        "# Problema 10\n",
        "Considerându-se o matrice cu n x m elemente binare (0 sau 1) sortate crescător pe linii, să se identifice indexul liniei care conține cele mai multe elemente de 1.\n",
        "\n",
        "De ex. în matricea\n",
        "\n",
        "[0,0,0,1,1],\n",
        "\n",
        "[0,1,1,1,1],\n",
        "\n",
        "[0,0,1,1,1]\n",
        "\n",
        "a doua linie conține cele mai multe elemente 1.\n"
      ],
      "metadata": {
        "id": "G30XWvhjOVXj"
      }
    },
    {
      "cell_type": "code",
      "source": [
        "\"\"\"Finds the row index with the most ones in a binary matrix.\n",
        "\n",
        "    Args:\n",
        "        biArray (list[list[int]]): A bidimensional list (matrix) where each row is a list of binary values.\n",
        "    Returns:\n",
        "        int: The index of the row with the most ones.\n",
        "\"\"\"\n",
        "\n",
        "# sorted -> count the zeros and remember the index\n",
        "# make a pair: maxOnes and rowIndex\n",
        "def problem10(biArray):\n",
        "    maxPair = (-1, -1)\n",
        "\n",
        "    for i in range(len(biArray)):\n",
        "        countZeros = 0\n",
        "        j = 0\n",
        "\n",
        "        while j < len(biArray[i]) and biArray[i][j] == 0:\n",
        "            countZeros += 1\n",
        "            j += 1\n",
        "\n",
        "        countOnes = len(biArray[i]) - countZeros\n",
        "\n",
        "        if countOnes > maxPair[1]:\n",
        "            maxPair = (i, countOnes)\n",
        "    return maxPair[0] + 1\n",
        "    #print(\"Row index with the most ones:\", maxPair[0] + 1)\n"
      ],
      "metadata": {
        "id": "-3fjqgHROkOM"
      },
      "execution_count": 107,
      "outputs": []
    },
    {
      "cell_type": "code",
      "source": [
        "biArray = [[0, 0, 0, 1, 1], [0, 1, 1, 1, 1], [0, 0, 1, 1, 1]]\n",
        "problem10(biArray)\n",
        "\n",
        "# TESTING\n",
        "assert problem10(biArray) == 2"
      ],
      "metadata": {
        "id": "yZPUvKdwRW0M"
      },
      "execution_count": 108,
      "outputs": []
    },
    {
      "cell_type": "code",
      "source": [
        "# Copilot\n",
        "def rowWithMostOnes(matrix):\n",
        "    maxOnes = 0\n",
        "    rowIndex = -1\n",
        "    for i, row in enumerate(matrix):\n",
        "        countOnes = sum(row)\n",
        "        if countOnes > maxOnes:\n",
        "            maxOnes = countOnes\n",
        "            rowIndex = i\n",
        "    return rowIndex\n",
        "\n",
        "matrix = [\n",
        "    [0, 0, 0, 1, 1],\n",
        "    [0, 1, 1, 1, 1],\n",
        "    [0, 0, 1, 1, 1]\n",
        "]\n",
        "\n",
        "result = rowWithMostOnes(matrix)\n",
        "print(result)"
      ],
      "metadata": {
        "colab": {
          "base_uri": "https://localhost:8080/"
        },
        "id": "BCPCFz8wkHr_",
        "outputId": "7bc71d5c-b9b0-4dba-813f-c6f7a661244b"
      },
      "execution_count": 109,
      "outputs": [
        {
          "output_type": "stream",
          "name": "stdout",
          "text": [
            "1\n"
          ]
        }
      ]
    },
    {
      "cell_type": "markdown",
      "source": [
        "# Problema 11\n",
        "\n",
        "Considerându-se o matrice cu n x m elemente binare (0 sau 1), să se înlocuiască cu 1 toate aparițiile elementelor egale cu 0 care sunt complet înconjurate de 1.\n",
        "\n",
        "De ex. matricea\n",
        "\n",
        "[[1,1,1,1,0,0,1,1,0,1],\n",
        "\n",
        "[1,0,0,1,1,0,1,1,1,1],\n",
        "\n",
        "[1,0,0,1,1,1,1,1,1,1],\n",
        "\n",
        "[1,1,1,1,0,0,1,1,0,1],\n",
        "\n",
        "[1,0,0,1,1,0,1,1,0,0],\n",
        "\n",
        "[1,1,0,1,1,0,0,1,0,1],\n",
        "\n",
        "[1,1,1,0,1,0,1,0,0,1],\n",
        "\n",
        "[1,1,1,0,1,1,1,1,1,1]\n",
        "\n",
        "*devine *\n",
        "\n",
        "[1,1,1,1,0,0,1,1,0,1],\n",
        "\n",
        "[1,1,1,1,1,0,1,1,1,1],\n",
        "\n",
        "[1,1,1,1,1,1,1,1,1,1],\n",
        "\n",
        "[1,1,1,1,1,1,1,1,0,1],\n",
        "\n",
        "[1,1,1,1,1,1,1,1,0,0],\n",
        "\n",
        "[1,1,1,1,1,1,1,1,0,1],\n",
        "\n",
        "[1,1,1,0,1,1,1,0,0,1],\n",
        "\n",
        "[1,1,1,0,1,1,1,1,1,1]\n"
      ],
      "metadata": {
        "id": "D2-VfKSMd8Ci"
      }
    }
  ]
}